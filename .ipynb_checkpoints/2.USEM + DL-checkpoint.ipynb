{
 "cells": [
  {
   "cell_type": "code",
   "execution_count": 1,
   "metadata": {},
   "outputs": [],
   "source": [
    "import numpy as np \n",
    "import pandas as pd\n",
    "import os\n",
    "import tensorflow as tf\n",
    "from tensorflow import keras\n",
    "import tensorflow_hub as hub\n",
    "import tensorflow_text\n",
    "\n",
    "import seaborn as sns\n",
    "import random\n",
    "import matplotlib.pyplot as plt\n",
    "\n",
    "\n",
    "import re,string,unicodedata\n",
    "\n",
    "import nltk\n",
    "from nltk.corpus import stopwords\n",
    "from tqdm import tqdm\n",
    "from wordcloud import WordCloud, STOPWORDS, ImageColorGenerator\n",
    "from wordcloud import WordCloud,STOPWORDS\n",
    "from bs4 import BeautifulSoup\n",
    "\n",
    "from tqdm import tqdm\n",
    "from sklearn.preprocessing import OneHotEncoder\n",
    "from sklearn.model_selection import train_test_split"
   ]
  },
  {
   "cell_type": "code",
   "execution_count": 2,
   "metadata": {},
   "outputs": [
    {
     "name": "stdout",
     "output_type": "stream",
     "text": [
      "[nltk_data] Downloading package stopwords to\n",
      "[nltk_data]     /Users/daisuke/nltk_data...\n",
      "[nltk_data]   Package stopwords is already up-to-date!\n"
     ]
    },
    {
     "data": {
      "text/plain": [
       "True"
      ]
     },
     "execution_count": 2,
     "metadata": {},
     "output_type": "execute_result"
    }
   ],
   "source": [
    "import nltk\n",
    "nltk.download('stopwords')"
   ]
  },
  {
   "cell_type": "code",
   "execution_count": 3,
   "metadata": {},
   "outputs": [
    {
     "data": {
      "text/html": [
       "<div>\n",
       "<style scoped>\n",
       "    .dataframe tbody tr th:only-of-type {\n",
       "        vertical-align: middle;\n",
       "    }\n",
       "\n",
       "    .dataframe tbody tr th {\n",
       "        vertical-align: top;\n",
       "    }\n",
       "\n",
       "    .dataframe thead th {\n",
       "        text-align: right;\n",
       "    }\n",
       "</style>\n",
       "<table border=\"1\" class=\"dataframe\">\n",
       "  <thead>\n",
       "    <tr style=\"text-align: right;\">\n",
       "      <th></th>\n",
       "      <th>review</th>\n",
       "      <th>sentiment</th>\n",
       "    </tr>\n",
       "  </thead>\n",
       "  <tbody>\n",
       "    <tr>\n",
       "      <th>0</th>\n",
       "      <td>One of the other reviewers has mentioned that ...</td>\n",
       "      <td>positive</td>\n",
       "    </tr>\n",
       "    <tr>\n",
       "      <th>1</th>\n",
       "      <td>A wonderful little production. &lt;br /&gt;&lt;br /&gt;The...</td>\n",
       "      <td>positive</td>\n",
       "    </tr>\n",
       "    <tr>\n",
       "      <th>2</th>\n",
       "      <td>I thought this was a wonderful way to spend ti...</td>\n",
       "      <td>positive</td>\n",
       "    </tr>\n",
       "    <tr>\n",
       "      <th>3</th>\n",
       "      <td>Basically there's a family where a little boy ...</td>\n",
       "      <td>negative</td>\n",
       "    </tr>\n",
       "    <tr>\n",
       "      <th>4</th>\n",
       "      <td>Petter Mattei's \"Love in the Time of Money\" is...</td>\n",
       "      <td>positive</td>\n",
       "    </tr>\n",
       "  </tbody>\n",
       "</table>\n",
       "</div>"
      ],
      "text/plain": [
       "                                              review sentiment\n",
       "0  One of the other reviewers has mentioned that ...  positive\n",
       "1  A wonderful little production. <br /><br />The...  positive\n",
       "2  I thought this was a wonderful way to spend ti...  positive\n",
       "3  Basically there's a family where a little boy ...  negative\n",
       "4  Petter Mattei's \"Love in the Time of Money\" is...  positive"
      ]
     },
     "execution_count": 3,
     "metadata": {},
     "output_type": "execute_result"
    }
   ],
   "source": [
    "df = pd.read_csv('IMDB Dataset.csv')\n",
    "df.head()"
   ]
  },
  {
   "cell_type": "markdown",
   "metadata": {},
   "source": [
    "## Data Cleaning"
   ]
  },
  {
   "cell_type": "code",
   "execution_count": 4,
   "metadata": {},
   "outputs": [],
   "source": [
    "stop = set(stopwords.words('english'))\n",
    "punctuation = list(string.punctuation)\n",
    "stop.update(punctuation)\n",
    "\n",
    "\n",
    "\n",
    "# BeautifulSoup(解析対象のHTML/XML, 利用するパーサー)\n",
    "def strip_html(text):\n",
    "    soup = BeautifulSoup(text, \"html.parser\")\n",
    "    return soup.get_text()\n",
    "\n",
    "\n",
    "\n",
    "#Removing the square brackets\n",
    "def remove_between_square_brackets(text):\n",
    "    return re.sub('\\[[^]]*\\]', '', text)\n",
    "\n",
    "\n",
    "\n",
    "# Removing URL's\n",
    "def remove_between_square_brackets(text):\n",
    "    return re.sub(r'http\\S+', '', text)\n",
    "\n",
    "\n",
    "\n",
    "\n",
    "#Removing the stopwords from text\n",
    "def remove_stopwords(text):\n",
    "    final_text = []\n",
    "    for i in text.split():\n",
    "        if i.strip().lower() not in stop and i.strip().lower().isalpha():\n",
    "            final_text.append(i.strip().lower())\n",
    "    return \" \".join(final_text)\n",
    "\n",
    "\n",
    "\n",
    "#Removing the noisy text\n",
    "def denoise_text(text):\n",
    "    text = strip_html(text)\n",
    "    text = remove_between_square_brackets(text)\n",
    "    text = remove_stopwords(text)\n",
    "    return text\n",
    "\n",
    "\n",
    "#Apply function on review column\n",
    "df['review']=df['review'].apply(denoise_text)"
   ]
  },
  {
   "cell_type": "code",
   "execution_count": 5,
   "metadata": {},
   "outputs": [
    {
     "data": {
      "text/html": [
       "<div>\n",
       "<style scoped>\n",
       "    .dataframe tbody tr th:only-of-type {\n",
       "        vertical-align: middle;\n",
       "    }\n",
       "\n",
       "    .dataframe tbody tr th {\n",
       "        vertical-align: top;\n",
       "    }\n",
       "\n",
       "    .dataframe thead th {\n",
       "        text-align: right;\n",
       "    }\n",
       "</style>\n",
       "<table border=\"1\" class=\"dataframe\">\n",
       "  <thead>\n",
       "    <tr style=\"text-align: right;\">\n",
       "      <th></th>\n",
       "      <th>review</th>\n",
       "      <th>sentiment</th>\n",
       "    </tr>\n",
       "  </thead>\n",
       "  <tbody>\n",
       "    <tr>\n",
       "      <th>0</th>\n",
       "      <td>one reviewers mentioned watching oz episode ex...</td>\n",
       "      <td>1</td>\n",
       "    </tr>\n",
       "    <tr>\n",
       "      <th>1</th>\n",
       "      <td>wonderful little filming technique fashion giv...</td>\n",
       "      <td>1</td>\n",
       "    </tr>\n",
       "    <tr>\n",
       "      <th>2</th>\n",
       "      <td>thought wonderful way spend time hot summer si...</td>\n",
       "      <td>1</td>\n",
       "    </tr>\n",
       "    <tr>\n",
       "      <th>3</th>\n",
       "      <td>basically family little boy thinks zombie clos...</td>\n",
       "      <td>0</td>\n",
       "    </tr>\n",
       "    <tr>\n",
       "      <th>4</th>\n",
       "      <td>petter time visually stunning film mattei offe...</td>\n",
       "      <td>1</td>\n",
       "    </tr>\n",
       "  </tbody>\n",
       "</table>\n",
       "</div>"
      ],
      "text/plain": [
       "                                              review  sentiment\n",
       "0  one reviewers mentioned watching oz episode ex...          1\n",
       "1  wonderful little filming technique fashion giv...          1\n",
       "2  thought wonderful way spend time hot summer si...          1\n",
       "3  basically family little boy thinks zombie clos...          0\n",
       "4  petter time visually stunning film mattei offe...          1"
      ]
     },
     "execution_count": 5,
     "metadata": {},
     "output_type": "execute_result"
    }
   ],
   "source": [
    "# So clean\n",
    "\n",
    "df.sentiment.replace(\"positive\" , 1 , inplace = True)\n",
    "df.sentiment.replace(\"negative\" , 0 , inplace = True)\n",
    "df.head()"
   ]
  },
  {
   "cell_type": "markdown",
   "metadata": {},
   "source": [
    "## 3 One hot encoding"
   ]
  },
  {
   "cell_type": "code",
   "execution_count": 6,
   "metadata": {},
   "outputs": [],
   "source": [
    "# yの形状をone hot にする\n",
    "type_one_hot = OneHotEncoder(sparse=False).fit_transform(df.sentiment.to_numpy().reshape(-1, 1))"
   ]
  },
  {
   "cell_type": "code",
   "execution_count": 8,
   "metadata": {},
   "outputs": [
    {
     "data": {
      "text/plain": [
       "array([[0., 1.],\n",
       "       [0., 1.],\n",
       "       [0., 1.],\n",
       "       ...,\n",
       "       [1., 0.],\n",
       "       [1., 0.],\n",
       "       [1., 0.]])"
      ]
     },
     "execution_count": 8,
     "metadata": {},
     "output_type": "execute_result"
    }
   ],
   "source": [
    "type_one_hot"
   ]
  },
  {
   "cell_type": "code",
   "execution_count": 7,
   "metadata": {},
   "outputs": [
    {
     "data": {
      "text/plain": [
       "0        one reviewers mentioned watching oz episode ex...\n",
       "1        wonderful little filming technique fashion giv...\n",
       "2        thought wonderful way spend time hot summer si...\n",
       "3        basically family little boy thinks zombie clos...\n",
       "4        petter time visually stunning film mattei offe...\n",
       "                               ...                        \n",
       "49995    thought movie right good creative original exp...\n",
       "49996    bad bad bad idiotic annoying porn groove sound...\n",
       "49997    catholic taught parochial elementary schools t...\n",
       "49998    going disagree previous comment side maltin se...\n",
       "49999    one expects star trek movies high fans expect ...\n",
       "Name: review, Length: 50000, dtype: object"
      ]
     },
     "execution_count": 7,
     "metadata": {},
     "output_type": "execute_result"
    }
   ],
   "source": [
    "df.review"
   ]
  },
  {
   "cell_type": "code",
   "execution_count": 28,
   "metadata": {},
   "outputs": [],
   "source": [
    "train_reviews, test_reviews, y_train, y_test = train_test_split(df.review, \n",
    "                                                                type_one_hot, \n",
    "                                                                test_size=0.5, \n",
    "                                                                random_state=0)\n",
    "\n"
   ]
  },
  {
   "cell_type": "code",
   "execution_count": 29,
   "metadata": {},
   "outputs": [
    {
     "name": "stdout",
     "output_type": "stream",
     "text": [
      "(25000,) (25000,)\n"
     ]
    }
   ],
   "source": [
    "print(train_reviews.shape, test_reviews.shape)"
   ]
  },
  {
   "cell_type": "code",
   "execution_count": 30,
   "metadata": {
    "scrolled": true
   },
   "outputs": [
    {
     "data": {
      "text/plain": [
       "21626    portrays day day stark reality survival ranch ...\n",
       "4521     interesting study societal well say wife stron...\n",
       "3652     prior airport movies rather decent special goo...\n",
       "22212    without doubt exciting satisfying film seen pl...\n",
       "17669    maybe alone crap sorry lured found bill idea c...\n",
       "                               ...                        \n",
       "21243    set high expectations left pleasantly story li...\n",
       "45891    blob great horror merely vividly horrific imag...\n",
       "42613    many years anne rivers noted book house next f...\n",
       "43567    massive fan thought first two series provided ...\n",
       "2732     ag excellent presentation suspense thriller ra...\n",
       "Name: review, Length: 25000, dtype: object"
      ]
     },
     "execution_count": 30,
     "metadata": {},
     "output_type": "execute_result"
    }
   ],
   "source": [
    "train_reviews"
   ]
  },
  {
   "cell_type": "code",
   "execution_count": 31,
   "metadata": {
    "scrolled": true
   },
   "outputs": [
    {
     "data": {
      "text/plain": [
       "11841    john cassavetes run bottom sees negro sidney p...\n",
       "19602    movie movie need another western titles sound ...\n",
       "45519    ethel waters sammy billed without rufus jones ...\n",
       "25747    find alan jacobs review accurate concerning op...\n",
       "42642    movie simply although skating montages played ...\n",
       "                               ...                        \n",
       "31007    stephen played proctologist one writers passed...\n",
       "30980    movie stop smiling watching already watched tw...\n",
       "18418    year rich able travel back time hunt live dino...\n",
       "29236    really enjoyed usually one fairy tales make be...\n",
       "37107    next karate excellent martial arts thought eri...\n",
       "Name: review, Length: 25000, dtype: object"
      ]
     },
     "execution_count": 31,
     "metadata": {},
     "output_type": "execute_result"
    }
   ],
   "source": [
    "test_reviews"
   ]
  },
  {
   "cell_type": "code",
   "execution_count": 32,
   "metadata": {},
   "outputs": [
    {
     "name": "stdout",
     "output_type": "stream",
     "text": [
      "(25000, 2) (25000, 2)\n"
     ]
    }
   ],
   "source": [
    "print(y_train.shape, y_test.shape)"
   ]
  },
  {
   "cell_type": "code",
   "execution_count": 33,
   "metadata": {},
   "outputs": [
    {
     "data": {
      "text/plain": [
       "array([[0., 1.],\n",
       "       [0., 1.],\n",
       "       [1., 0.],\n",
       "       ...,\n",
       "       [0., 1.],\n",
       "       [1., 0.],\n",
       "       [0., 1.]])"
      ]
     },
     "execution_count": 33,
     "metadata": {},
     "output_type": "execute_result"
    }
   ],
   "source": [
    "y_train"
   ]
  },
  {
   "cell_type": "code",
   "execution_count": 21,
   "metadata": {},
   "outputs": [
    {
     "data": {
      "text/plain": [
       "pandas.core.series.Series"
      ]
     },
     "execution_count": 21,
     "metadata": {},
     "output_type": "execute_result"
    }
   ],
   "source": [
    "type(train_reviews)"
   ]
  },
  {
   "cell_type": "code",
   "execution_count": 35,
   "metadata": {},
   "outputs": [],
   "source": [
    "url = \"https://tfhub.dev/google/universal-sentence-encoder-multilingual-qa/3\"\n",
    "embed = hub.load(url)"
   ]
  },
  {
   "cell_type": "code",
   "execution_count": 36,
   "metadata": {
    "scrolled": true
   },
   "outputs": [
    {
     "name": "stderr",
     "output_type": "stream",
     "text": [
      "100%|██████████| 25000/25000 [24:43<00:00, 18.23it/s]\n"
     ]
    }
   ],
   "source": [
    "X_train = []\n",
    "for r in tqdm(train_reviews):\n",
    "    emb = embed(r)\n",
    "    review_emb = tf.reshape(emb, [-1]).numpy()\n",
    "    X_train.append(review_emb)\n",
    "\n",
    "X_train = np.array(X_train)"
   ]
  },
  {
   "cell_type": "code",
   "execution_count": 37,
   "metadata": {},
   "outputs": [
    {
     "name": "stderr",
     "output_type": "stream",
     "text": [
      "100%|██████████| 25000/25000 [25:47<00:00, 16.15it/s]\n"
     ]
    }
   ],
   "source": [
    "X_test = []\n",
    "for r in tqdm(test_reviews):\n",
    "    emb = embed(r)\n",
    "    review_emb = tf.reshape(emb, [-1]).numpy()\n",
    "    X_test.append(review_emb)\n",
    "\n",
    "X_test = np.array(X_test)"
   ]
  },
  {
   "cell_type": "code",
   "execution_count": 27,
   "metadata": {},
   "outputs": [],
   "source": [
    "# module_url = 'https://tfhub.dev/google/universal-sentence-encoder-large/4'\n",
    "# USE_embed = hub.KerasLayer(module_url, trainable=False, name='USE_embedding')"
   ]
  },
  {
   "cell_type": "code",
   "execution_count": 38,
   "metadata": {},
   "outputs": [
    {
     "name": "stdout",
     "output_type": "stream",
     "text": [
      "(25000, 512) (25000, 512)\n"
     ]
    }
   ],
   "source": [
    "print(X_train.shape, X_test.shape)"
   ]
  },
  {
   "cell_type": "code",
   "execution_count": 39,
   "metadata": {},
   "outputs": [
    {
     "name": "stdout",
     "output_type": "stream",
     "text": [
      "(25000, 2) (25000, 2)\n"
     ]
    }
   ],
   "source": [
    "print(y_train.shape, y_test.shape)"
   ]
  },
  {
   "cell_type": "markdown",
   "metadata": {},
   "source": [
    "# Modeling"
   ]
  },
  {
   "cell_type": "code",
   "execution_count": 40,
   "metadata": {},
   "outputs": [],
   "source": [
    "from tensorflow.python.keras import models\n",
    "from tensorflow.python.keras.layers import Dense\n",
    "from tensorflow.python.keras.layers import Dropout"
   ]
  },
  {
   "cell_type": "code",
   "execution_count": 41,
   "metadata": {},
   "outputs": [
    {
     "data": {
      "text/plain": [
       "(512,)"
      ]
     },
     "execution_count": 41,
     "metadata": {},
     "output_type": "execute_result"
    }
   ],
   "source": [
    "input_shape = X_train.shape[1:]\n",
    "X_train.shape[1:]"
   ]
  },
  {
   "cell_type": "code",
   "execution_count": 42,
   "metadata": {},
   "outputs": [
    {
     "data": {
      "text/plain": [
       "(25000, 2)"
      ]
     },
     "execution_count": 42,
     "metadata": {},
     "output_type": "execute_result"
    }
   ],
   "source": [
    "y_train.shape"
   ]
  },
  {
   "cell_type": "code",
   "execution_count": 55,
   "metadata": {},
   "outputs": [
    {
     "name": "stdout",
     "output_type": "stream",
     "text": [
      "Model: \"sequential_3\"\n",
      "_________________________________________________________________\n",
      "Layer (type)                 Output Shape              Param #   \n",
      "=================================================================\n",
      "dense_12 (Dense)             (None, 1000)              513000    \n",
      "_________________________________________________________________\n",
      "dropout_3 (Dropout)          (None, 1000)              0         \n",
      "_________________________________________________________________\n",
      "dense_13 (Dense)             (None, 300)               300300    \n",
      "_________________________________________________________________\n",
      "dense_14 (Dense)             (None, 50)                15050     \n",
      "_________________________________________________________________\n",
      "dense_15 (Dense)             (None, 2)                 102       \n",
      "=================================================================\n",
      "Total params: 828,452\n",
      "Trainable params: 828,452\n",
      "Non-trainable params: 0\n",
      "_________________________________________________________________\n"
     ]
    }
   ],
   "source": [
    "model = tf.keras.Sequential()\n",
    "\n",
    "\n",
    "\n",
    "\n",
    "\n",
    "model.add(tf.keras.layers.Dense(1000,input_shape=input_shape, activation='relu'))\n",
    "\n",
    "model.add(tf.keras.layers.Dropout(rate=0.2))\n",
    "\n",
    "model.add(tf.keras.layers.Dense(units=300,activation='relu'))\n",
    "\n",
    "model.add(tf.keras.layers.Dense(units=50,activation='relu'))\n",
    "\n",
    "model.add(tf.keras.layers.Dense(2, activation='sigmoid'))\n",
    "\n",
    "\n",
    "model.summary()\n",
    "\n",
    "\n",
    "\n"
   ]
  },
  {
   "cell_type": "code",
   "execution_count": 56,
   "metadata": {},
   "outputs": [],
   "source": [
    "model.compile(loss='binary_crossentropy', optimizer=keras.optimizers.Adam(0.001), metrics=['accuracy'])"
   ]
  },
  {
   "cell_type": "code",
   "execution_count": 59,
   "metadata": {
    "scrolled": true
   },
   "outputs": [
    {
     "name": "stdout",
     "output_type": "stream",
     "text": [
      "Epoch 1/100\n",
      "196/196 [==============================] - 1s 5ms/step - loss: 0.1432 - accuracy: 0.9458 - val_loss: 0.6166 - val_accuracy: 0.8061\n",
      "Epoch 2/100\n",
      "196/196 [==============================] - 1s 5ms/step - loss: 0.1182 - accuracy: 0.9555 - val_loss: 0.6392 - val_accuracy: 0.8038\n",
      "Epoch 3/100\n",
      "196/196 [==============================] - 1s 5ms/step - loss: 0.1055 - accuracy: 0.9600 - val_loss: 0.7478 - val_accuracy: 0.7977\n",
      "Epoch 4/100\n",
      "196/196 [==============================] - 1s 5ms/step - loss: 0.0842 - accuracy: 0.9694 - val_loss: 0.7815 - val_accuracy: 0.8042\n",
      "Epoch 5/100\n",
      "196/196 [==============================] - 1s 5ms/step - loss: 0.0833 - accuracy: 0.9692 - val_loss: 0.8710 - val_accuracy: 0.7929\n",
      "Epoch 6/100\n",
      "196/196 [==============================] - 1s 5ms/step - loss: 0.0719 - accuracy: 0.9729 - val_loss: 0.9227 - val_accuracy: 0.7955\n",
      "Epoch 7/100\n",
      "196/196 [==============================] - 1s 5ms/step - loss: 0.0645 - accuracy: 0.9765 - val_loss: 0.8711 - val_accuracy: 0.8032\n",
      "Epoch 8/100\n",
      "196/196 [==============================] - 1s 5ms/step - loss: 0.0578 - accuracy: 0.9792 - val_loss: 0.9856 - val_accuracy: 0.7947\n",
      "Epoch 9/100\n",
      "196/196 [==============================] - 1s 5ms/step - loss: 0.0598 - accuracy: 0.9783 - val_loss: 0.9303 - val_accuracy: 0.8044\n",
      "Epoch 10/100\n",
      "196/196 [==============================] - 1s 6ms/step - loss: 0.0549 - accuracy: 0.9802 - val_loss: 0.9490 - val_accuracy: 0.8021\n",
      "Epoch 11/100\n",
      "196/196 [==============================] - 1s 6ms/step - loss: 0.0424 - accuracy: 0.9842 - val_loss: 0.9313 - val_accuracy: 0.8028\n",
      "Epoch 12/100\n",
      "196/196 [==============================] - 1s 6ms/step - loss: 0.0432 - accuracy: 0.9843 - val_loss: 0.9303 - val_accuracy: 0.7992\n",
      "Epoch 13/100\n",
      "196/196 [==============================] - 1s 6ms/step - loss: 0.0405 - accuracy: 0.9854 - val_loss: 1.0762 - val_accuracy: 0.8018\n",
      "Epoch 14/100\n",
      "196/196 [==============================] - 1s 6ms/step - loss: 0.0432 - accuracy: 0.9845 - val_loss: 1.0509 - val_accuracy: 0.8020\n",
      "Epoch 15/100\n",
      "196/196 [==============================] - 1s 5ms/step - loss: 0.0346 - accuracy: 0.9876 - val_loss: 1.0474 - val_accuracy: 0.7956\n",
      "Epoch 16/100\n",
      "196/196 [==============================] - 1s 6ms/step - loss: 0.0364 - accuracy: 0.9874 - val_loss: 0.9543 - val_accuracy: 0.7976\n",
      "Epoch 17/100\n",
      "196/196 [==============================] - 1s 6ms/step - loss: 0.0390 - accuracy: 0.9856 - val_loss: 1.0584 - val_accuracy: 0.7940\n",
      "Epoch 18/100\n",
      "196/196 [==============================] - 1s 6ms/step - loss: 0.0338 - accuracy: 0.9877 - val_loss: 1.0806 - val_accuracy: 0.8050\n",
      "Epoch 19/100\n",
      "196/196 [==============================] - 1s 5ms/step - loss: 0.0336 - accuracy: 0.9878 - val_loss: 1.0391 - val_accuracy: 0.7996\n",
      "Epoch 20/100\n",
      "196/196 [==============================] - 1s 5ms/step - loss: 0.0316 - accuracy: 0.9886 - val_loss: 1.0984 - val_accuracy: 0.7975\n",
      "Epoch 21/100\n",
      "196/196 [==============================] - 1s 6ms/step - loss: 0.0361 - accuracy: 0.9855 - val_loss: 1.0455 - val_accuracy: 0.7996\n",
      "Epoch 22/100\n",
      "196/196 [==============================] - 1s 6ms/step - loss: 0.0299 - accuracy: 0.9895 - val_loss: 1.0348 - val_accuracy: 0.8028\n",
      "Epoch 23/100\n",
      "196/196 [==============================] - 1s 6ms/step - loss: 0.0273 - accuracy: 0.9906 - val_loss: 1.0460 - val_accuracy: 0.7966\n",
      "Epoch 24/100\n",
      "196/196 [==============================] - 1s 6ms/step - loss: 0.0244 - accuracy: 0.9918 - val_loss: 1.1608 - val_accuracy: 0.8029\n",
      "Epoch 25/100\n",
      "196/196 [==============================] - 1s 6ms/step - loss: 0.0274 - accuracy: 0.9902 - val_loss: 1.1755 - val_accuracy: 0.8029\n",
      "Epoch 26/100\n",
      "196/196 [==============================] - 1s 6ms/step - loss: 0.0238 - accuracy: 0.9913 - val_loss: 1.1028 - val_accuracy: 0.8016\n",
      "Epoch 27/100\n",
      "196/196 [==============================] - 1s 5ms/step - loss: 0.0301 - accuracy: 0.9891 - val_loss: 1.0343 - val_accuracy: 0.8018\n",
      "Epoch 28/100\n",
      "196/196 [==============================] - 1s 6ms/step - loss: 0.0267 - accuracy: 0.9904 - val_loss: 1.0837 - val_accuracy: 0.8014\n",
      "Epoch 29/100\n",
      "196/196 [==============================] - 1s 5ms/step - loss: 0.0240 - accuracy: 0.9914 - val_loss: 1.0549 - val_accuracy: 0.8016\n",
      "Epoch 30/100\n",
      "196/196 [==============================] - 1s 6ms/step - loss: 0.0212 - accuracy: 0.9932 - val_loss: 1.1684 - val_accuracy: 0.7983\n",
      "Epoch 31/100\n",
      "196/196 [==============================] - 1s 6ms/step - loss: 0.0185 - accuracy: 0.9932 - val_loss: 1.2016 - val_accuracy: 0.7984\n",
      "Epoch 32/100\n",
      "196/196 [==============================] - 1s 6ms/step - loss: 0.0290 - accuracy: 0.9899 - val_loss: 1.1285 - val_accuracy: 0.8028\n",
      "Epoch 33/100\n",
      "196/196 [==============================] - 1s 6ms/step - loss: 0.0230 - accuracy: 0.9918 - val_loss: 1.1348 - val_accuracy: 0.8050\n",
      "Epoch 34/100\n",
      "196/196 [==============================] - 1s 6ms/step - loss: 0.0214 - accuracy: 0.9930 - val_loss: 1.1534 - val_accuracy: 0.8001\n",
      "Epoch 35/100\n",
      "196/196 [==============================] - 1s 5ms/step - loss: 0.0196 - accuracy: 0.9932 - val_loss: 1.1422 - val_accuracy: 0.8025\n",
      "Epoch 36/100\n",
      "196/196 [==============================] - 1s 5ms/step - loss: 0.0212 - accuracy: 0.9926 - val_loss: 1.1358 - val_accuracy: 0.8012\n",
      "Epoch 37/100\n",
      "196/196 [==============================] - 1s 6ms/step - loss: 0.0207 - accuracy: 0.9928 - val_loss: 1.1629 - val_accuracy: 0.8018\n",
      "Epoch 38/100\n",
      "196/196 [==============================] - 1s 6ms/step - loss: 0.0216 - accuracy: 0.9920 - val_loss: 1.1802 - val_accuracy: 0.8002\n",
      "Epoch 39/100\n",
      "196/196 [==============================] - 1s 5ms/step - loss: 0.0249 - accuracy: 0.9913 - val_loss: 1.1186 - val_accuracy: 0.7997\n",
      "Epoch 40/100\n",
      "196/196 [==============================] - 1s 6ms/step - loss: 0.0216 - accuracy: 0.9917 - val_loss: 1.1733 - val_accuracy: 0.8006\n",
      "Epoch 41/100\n",
      "196/196 [==============================] - 1s 6ms/step - loss: 0.0172 - accuracy: 0.9941 - val_loss: 1.2066 - val_accuracy: 0.8020\n",
      "Epoch 42/100\n",
      "196/196 [==============================] - 1s 6ms/step - loss: 0.0186 - accuracy: 0.9932 - val_loss: 1.2566 - val_accuracy: 0.8023\n",
      "Epoch 43/100\n",
      "196/196 [==============================] - 1s 7ms/step - loss: 0.0229 - accuracy: 0.9916 - val_loss: 1.0916 - val_accuracy: 0.8028\n",
      "Epoch 44/100\n",
      "196/196 [==============================] - 1s 6ms/step - loss: 0.0212 - accuracy: 0.9927 - val_loss: 1.1471 - val_accuracy: 0.8028\n",
      "Epoch 45/100\n",
      "196/196 [==============================] - 1s 6ms/step - loss: 0.0142 - accuracy: 0.9951 - val_loss: 1.2775 - val_accuracy: 0.8057\n",
      "Epoch 46/100\n",
      "196/196 [==============================] - 1s 6ms/step - loss: 0.0193 - accuracy: 0.9932 - val_loss: 1.2778 - val_accuracy: 0.8057\n",
      "Epoch 47/100\n",
      "196/196 [==============================] - 1s 6ms/step - loss: 0.0165 - accuracy: 0.9944 - val_loss: 1.2715 - val_accuracy: 0.8021\n",
      "Epoch 48/100\n",
      "196/196 [==============================] - 1s 6ms/step - loss: 0.0157 - accuracy: 0.9947 - val_loss: 1.2668 - val_accuracy: 0.8050\n",
      "Epoch 49/100\n",
      "196/196 [==============================] - 1s 6ms/step - loss: 0.0198 - accuracy: 0.9931 - val_loss: 1.3380 - val_accuracy: 0.7994\n",
      "Epoch 50/100\n",
      "196/196 [==============================] - 1s 6ms/step - loss: 0.0199 - accuracy: 0.9926 - val_loss: 1.0481 - val_accuracy: 0.7992\n",
      "Epoch 51/100\n",
      "196/196 [==============================] - 1s 6ms/step - loss: 0.0152 - accuracy: 0.9948 - val_loss: 1.2149 - val_accuracy: 0.8055\n",
      "Epoch 52/100\n",
      "196/196 [==============================] - 1s 5ms/step - loss: 0.0161 - accuracy: 0.9943 - val_loss: 1.2736 - val_accuracy: 0.8013\n",
      "Epoch 53/100\n",
      "196/196 [==============================] - 1s 6ms/step - loss: 0.0167 - accuracy: 0.9947 - val_loss: 1.2884 - val_accuracy: 0.8033\n",
      "Epoch 54/100\n",
      "196/196 [==============================] - 1s 6ms/step - loss: 0.0181 - accuracy: 0.9930 - val_loss: 1.1839 - val_accuracy: 0.8029\n",
      "Epoch 55/100\n",
      "196/196 [==============================] - 1s 6ms/step - loss: 0.0184 - accuracy: 0.9932 - val_loss: 1.2566 - val_accuracy: 0.7996\n",
      "Epoch 56/100\n",
      "196/196 [==============================] - 1s 6ms/step - loss: 0.0157 - accuracy: 0.9946 - val_loss: 1.2373 - val_accuracy: 0.8013\n",
      "Epoch 57/100\n",
      "196/196 [==============================] - 1s 6ms/step - loss: 0.0173 - accuracy: 0.9945 - val_loss: 1.1754 - val_accuracy: 0.8058\n"
     ]
    },
    {
     "name": "stdout",
     "output_type": "stream",
     "text": [
      "Epoch 58/100\n",
      "196/196 [==============================] - 1s 6ms/step - loss: 0.0147 - accuracy: 0.9954 - val_loss: 1.2506 - val_accuracy: 0.8010\n",
      "Epoch 59/100\n",
      "196/196 [==============================] - 1s 6ms/step - loss: 0.0159 - accuracy: 0.9942 - val_loss: 1.2270 - val_accuracy: 0.8043\n",
      "Epoch 60/100\n",
      "196/196 [==============================] - 1s 6ms/step - loss: 0.0175 - accuracy: 0.9936 - val_loss: 1.1829 - val_accuracy: 0.7986\n",
      "Epoch 61/100\n",
      "196/196 [==============================] - 1s 6ms/step - loss: 0.0180 - accuracy: 0.9936 - val_loss: 1.2163 - val_accuracy: 0.8054\n",
      "Epoch 62/100\n",
      "196/196 [==============================] - 1s 6ms/step - loss: 0.0116 - accuracy: 0.9961 - val_loss: 1.3559 - val_accuracy: 0.8062\n",
      "Epoch 63/100\n",
      "196/196 [==============================] - 1s 5ms/step - loss: 0.0142 - accuracy: 0.9952 - val_loss: 1.2236 - val_accuracy: 0.8023\n",
      "Epoch 64/100\n",
      "196/196 [==============================] - 1s 6ms/step - loss: 0.0180 - accuracy: 0.9935 - val_loss: 1.1528 - val_accuracy: 0.8032\n",
      "Epoch 65/100\n",
      "196/196 [==============================] - 1s 6ms/step - loss: 0.0154 - accuracy: 0.9950 - val_loss: 1.3008 - val_accuracy: 0.8043\n",
      "Epoch 66/100\n",
      "196/196 [==============================] - 1s 6ms/step - loss: 0.0158 - accuracy: 0.9948 - val_loss: 1.1528 - val_accuracy: 0.7994\n",
      "Epoch 67/100\n",
      "196/196 [==============================] - 1s 6ms/step - loss: 0.0118 - accuracy: 0.9955 - val_loss: 1.3151 - val_accuracy: 0.8034\n",
      "Epoch 68/100\n",
      "196/196 [==============================] - 1s 6ms/step - loss: 0.0125 - accuracy: 0.9951 - val_loss: 1.4220 - val_accuracy: 0.7974\n",
      "Epoch 69/100\n",
      "196/196 [==============================] - 1s 6ms/step - loss: 0.0179 - accuracy: 0.9933 - val_loss: 1.1808 - val_accuracy: 0.8067\n",
      "Epoch 70/100\n",
      "196/196 [==============================] - 1s 6ms/step - loss: 0.0133 - accuracy: 0.9948 - val_loss: 1.4147 - val_accuracy: 0.8021\n",
      "Epoch 71/100\n",
      "196/196 [==============================] - 1s 6ms/step - loss: 0.0131 - accuracy: 0.9960 - val_loss: 1.2669 - val_accuracy: 0.8028\n",
      "Epoch 72/100\n",
      "196/196 [==============================] - 1s 7ms/step - loss: 0.0161 - accuracy: 0.9944 - val_loss: 1.2469 - val_accuracy: 0.8030\n",
      "Epoch 73/100\n",
      "196/196 [==============================] - 1s 6ms/step - loss: 0.0128 - accuracy: 0.9951 - val_loss: 1.3777 - val_accuracy: 0.8035\n",
      "Epoch 74/100\n",
      "196/196 [==============================] - 1s 6ms/step - loss: 0.0125 - accuracy: 0.9958 - val_loss: 1.2684 - val_accuracy: 0.8046\n",
      "Epoch 75/100\n",
      "196/196 [==============================] - 1s 6ms/step - loss: 0.0140 - accuracy: 0.9945 - val_loss: 1.3149 - val_accuracy: 0.8025\n",
      "Epoch 76/100\n",
      "196/196 [==============================] - 1s 6ms/step - loss: 0.0101 - accuracy: 0.9962 - val_loss: 1.4119 - val_accuracy: 0.8042\n",
      "Epoch 77/100\n",
      "196/196 [==============================] - 1s 5ms/step - loss: 0.0135 - accuracy: 0.9952 - val_loss: 1.2711 - val_accuracy: 0.8052\n",
      "Epoch 78/100\n",
      "196/196 [==============================] - 1s 6ms/step - loss: 0.0102 - accuracy: 0.9965 - val_loss: 1.4575 - val_accuracy: 0.8001\n",
      "Epoch 79/100\n",
      "196/196 [==============================] - 1s 6ms/step - loss: 0.0165 - accuracy: 0.9936 - val_loss: 1.3777 - val_accuracy: 0.8074\n",
      "Epoch 80/100\n",
      "196/196 [==============================] - 1s 6ms/step - loss: 0.0120 - accuracy: 0.9961 - val_loss: 1.2725 - val_accuracy: 0.8047\n",
      "Epoch 81/100\n",
      "196/196 [==============================] - 1s 6ms/step - loss: 0.0103 - accuracy: 0.9963 - val_loss: 1.3887 - val_accuracy: 0.8053\n",
      "Epoch 82/100\n",
      "196/196 [==============================] - 1s 6ms/step - loss: 0.0128 - accuracy: 0.9950 - val_loss: 1.3775 - val_accuracy: 0.8030\n",
      "Epoch 83/100\n",
      "196/196 [==============================] - 1s 6ms/step - loss: 0.0127 - accuracy: 0.9956 - val_loss: 1.4542 - val_accuracy: 0.8084\n",
      "Epoch 84/100\n",
      "196/196 [==============================] - 1s 6ms/step - loss: 0.0141 - accuracy: 0.9947 - val_loss: 1.3859 - val_accuracy: 0.8052\n",
      "Epoch 85/100\n",
      "196/196 [==============================] - 1s 6ms/step - loss: 0.0109 - accuracy: 0.9962 - val_loss: 1.4656 - val_accuracy: 0.8064\n",
      "Epoch 86/100\n",
      "196/196 [==============================] - 1s 6ms/step - loss: 0.0107 - accuracy: 0.9964 - val_loss: 1.3668 - val_accuracy: 0.8036\n",
      "Epoch 87/100\n",
      "196/196 [==============================] - 1s 6ms/step - loss: 0.0115 - accuracy: 0.9961 - val_loss: 1.3680 - val_accuracy: 0.8055\n",
      "Epoch 88/100\n",
      "196/196 [==============================] - 1s 6ms/step - loss: 0.0105 - accuracy: 0.9962 - val_loss: 1.2723 - val_accuracy: 0.8062\n",
      "Epoch 89/100\n",
      "196/196 [==============================] - 1s 6ms/step - loss: 0.0102 - accuracy: 0.9965 - val_loss: 1.4379 - val_accuracy: 0.8082\n",
      "Epoch 90/100\n",
      "196/196 [==============================] - 1s 6ms/step - loss: 0.0124 - accuracy: 0.9958 - val_loss: 1.3274 - val_accuracy: 0.8059\n",
      "Epoch 91/100\n",
      "196/196 [==============================] - 1s 6ms/step - loss: 0.0104 - accuracy: 0.9966 - val_loss: 1.3912 - val_accuracy: 0.8091\n",
      "Epoch 92/100\n",
      "196/196 [==============================] - 1s 6ms/step - loss: 0.0105 - accuracy: 0.9964 - val_loss: 1.3819 - val_accuracy: 0.7992\n",
      "Epoch 93/100\n",
      "196/196 [==============================] - 1s 6ms/step - loss: 0.0121 - accuracy: 0.9956 - val_loss: 1.3545 - val_accuracy: 0.8074\n",
      "Epoch 94/100\n",
      "196/196 [==============================] - 1s 6ms/step - loss: 0.0111 - accuracy: 0.9965 - val_loss: 1.3672 - val_accuracy: 0.8006\n",
      "Epoch 95/100\n",
      "196/196 [==============================] - 1s 6ms/step - loss: 0.0120 - accuracy: 0.9957 - val_loss: 1.4440 - val_accuracy: 0.8060\n",
      "Epoch 96/100\n",
      "196/196 [==============================] - 1s 6ms/step - loss: 0.0113 - accuracy: 0.9960 - val_loss: 1.3609 - val_accuracy: 0.8019\n",
      "Epoch 97/100\n",
      "196/196 [==============================] - 1s 6ms/step - loss: 0.0108 - accuracy: 0.9961 - val_loss: 1.4199 - val_accuracy: 0.8075\n",
      "Epoch 98/100\n",
      "196/196 [==============================] - 1s 6ms/step - loss: 0.0105 - accuracy: 0.9963 - val_loss: 1.3781 - val_accuracy: 0.8028\n",
      "Epoch 99/100\n",
      "196/196 [==============================] - 1s 6ms/step - loss: 0.0104 - accuracy: 0.9966 - val_loss: 1.4333 - val_accuracy: 0.8076\n",
      "Epoch 100/100\n",
      "196/196 [==============================] - 1s 6ms/step - loss: 0.0081 - accuracy: 0.9972 - val_loss: 1.4738 - val_accuracy: 0.8026\n"
     ]
    }
   ],
   "source": [
    "history = model.fit(X_train, y_train, epochs=100, validation_data=(X_test, y_test), \n",
    "                    verbose=1, batch_size=128)"
   ]
  }
 ],
 "metadata": {
  "kernelspec": {
   "display_name": "Python 3",
   "language": "python",
   "name": "python3"
  },
  "language_info": {
   "codemirror_mode": {
    "name": "ipython",
    "version": 3
   },
   "file_extension": ".py",
   "mimetype": "text/x-python",
   "name": "python",
   "nbconvert_exporter": "python",
   "pygments_lexer": "ipython3",
   "version": "3.6.8"
  }
 },
 "nbformat": 4,
 "nbformat_minor": 2
}
